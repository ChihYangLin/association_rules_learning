{
 "cells": [
  {
   "cell_type": "code",
   "execution_count": 1,
   "metadata": {},
   "outputs": [],
   "source": [
    "#!pip install apyori"
   ]
  },
  {
   "cell_type": "code",
   "execution_count": 2,
   "metadata": {},
   "outputs": [],
   "source": [
    "import pandas as pd\n",
    "import numpy as np\n",
    "from apyori import apriori"
   ]
  },
  {
   "cell_type": "code",
   "execution_count": 3,
   "metadata": {},
   "outputs": [],
   "source": [
    "def import_data_from_csv(filename):\n",
    "    data = pd.read_csv(filename, encoding='utf-8')\n",
    "    return data"
   ]
  },
  {
   "cell_type": "code",
   "execution_count": 4,
   "metadata": {},
   "outputs": [],
   "source": [
    "def make_user_item_list(df,userID_col_name,itemName_col_name):\n",
    "    user_item_df = df.groupby(userID_col_name).agg({itemName_col_name: lambda x : ','.join(x).split(',')})\n",
    "    user_item_list = user_item_df[itemName_col_name].tolist()\n",
    "    return user_item_list"
   ]
  },
  {
   "cell_type": "code",
   "execution_count": 5,
   "metadata": {},
   "outputs": [],
   "source": [
    "def make_rules_df(double_list, min_sup, min_conf, min_lif):\n",
    "    association_rules = apriori(double_list, min_support=min_sup, min_confidence = min_conf, min_lift=min_lif,max_length = 2)\n",
    "    association_DF = pd.DataFrame(list(association_rules))\n",
    "    association_DF = association_DF.explode('ordered_statistics')\n",
    "    association_DF = association_DF.explode('ordered_statistics')\n",
    "    association_DF.reset_index(drop=True,inplace=True)\n",
    "    return association_DF"
   ]
  },
  {
   "cell_type": "code",
   "execution_count": 6,
   "metadata": {},
   "outputs": [],
   "source": [
    "def make_support_df(df):\n",
    "    df_copy = df.copy()\n",
    "    for i in range(len(df)):\n",
    "        if i%4 != 0:\n",
    "            df_copy.drop(index=i,inplace=True)\n",
    "    df_copy.reset_index(drop=True,inplace=True)\n",
    "    return df_copy"
   ]
  },
  {
   "cell_type": "code",
   "execution_count": 7,
   "metadata": {},
   "outputs": [],
   "source": [
    "def make_association_rule_df(df, sup_df):\n",
    "    rule_list = []\n",
    "    association_list = df['ordered_statistics'].tolist()\n",
    "    n = 0\n",
    "    while True:\n",
    "        if n < len(df)-3:\n",
    "            tmp_list = association_list[n:n+4]\n",
    "            rule_list.append(tmp_list)\n",
    "            n +=4\n",
    "        else:\n",
    "            break\n",
    "    associate_df = pd.DataFrame(data = rule_list, columns=['item1','item2','confidence','lift'])\n",
    "    association_rule_df = pd.concat([associate_df,sup_df['support']],axis=1)\n",
    "    association_rule_df.drop(association_rule_df[association_rule_df['confidence']==1].index,axis=0, inplace=True)\n",
    "    association_rule_df['item2_original_buy_rate'] = association_rule_df['confidence'] / association_rule_df['lift']\n",
    "    return association_rule_df"
   ]
  },
  {
   "cell_type": "code",
   "execution_count": 8,
   "metadata": {},
   "outputs": [],
   "source": [
    "def save_df_to_cvs(df,filename):\n",
    "    df.to_csv(filename,encoding='utf_8_sig',index=False)"
   ]
  },
  {
   "cell_type": "code",
   "execution_count": 9,
   "metadata": {},
   "outputs": [],
   "source": [
    "def main():\n",
    "    #參數設定\n",
    "    open_file_name = 'retailer_ratings.csv'\n",
    "    save_file_name_lift = 'association_rules_lift.csv'\n",
    "    save_file_name_confidence = 'association_rules_confidence.csv'\n",
    "    column_of_user_ID = 'CustomerID'\n",
    "    column_of_item_name = 'ProductName'\n",
    "    min_sup = 0.03  #最小支持度  N(A,B)/N(All)\n",
    "    min_conf = 0.6  #最小信賴度   A 的信賴度 = N(A,B)/N(B)\n",
    "    min_lif = 5     #最小提升度   A 的提升度 = A 的信賴度/A 的購買率 (大於 1 才有意義，不然單買就好)\n",
    "    \n",
    "    \n",
    "    #從csv載入資料 --> Dataframe\n",
    "    data_df = import_data_from_csv(open_file_name)\n",
    "\n",
    "    #Dataframe --> 將購物籃變成雙重list ex:[[A,B],[A,C,D],[B,F]...]\n",
    "    user_item_list = make_user_item_list(data_df,column_of_user_ID,column_of_item_name)\n",
    "\n",
    "    #購物籃list --> 關聯規則Dataframe\n",
    "    rule_df = make_rules_df(user_item_list, min_sup=min_sup, min_conf=min_conf, min_lif=min_lif)\n",
    "\n",
    "    #創造每條規則的支持度(Support) Dataframe\n",
    "    support_df = make_support_df(rule_df)\n",
    "\n",
    "    #將規則與支持度兩個Dataframe合併\n",
    "    association_rule_df = make_association_rule_df(rule_df, support_df)\n",
    "\n",
    "    #依照提升度(Lift)做排序, 輸出成CSV檔\n",
    "    association_rule_df.sort_values(by = 'lift', ascending=False, inplace=True)\n",
    "    save_df_to_cvs(association_rule_df,save_file_name_lift)\n",
    "    \n",
    "    #依照信賴度(confidence)做排序, 輸出成CSV檔\n",
    "    association_rule_df.sort_values(by = 'confidence', ascending=False, inplace=True)\n",
    "    save_df_to_cvs(association_rule_df,save_file_name_confidence)"
   ]
  },
  {
   "cell_type": "code",
   "execution_count": 10,
   "metadata": {},
   "outputs": [],
   "source": [
    "if __name__ == '__main__':\n",
    "    main()"
   ]
  },
  {
   "cell_type": "code",
   "execution_count": null,
   "metadata": {},
   "outputs": [],
   "source": []
  }
 ],
 "metadata": {
  "kernelspec": {
   "display_name": "Python 3",
   "language": "python",
   "name": "python3"
  },
  "language_info": {
   "codemirror_mode": {
    "name": "ipython",
    "version": 3
   },
   "file_extension": ".py",
   "mimetype": "text/x-python",
   "name": "python",
   "nbconvert_exporter": "python",
   "pygments_lexer": "ipython3",
   "version": "3.7.9"
  }
 },
 "nbformat": 4,
 "nbformat_minor": 4
}
